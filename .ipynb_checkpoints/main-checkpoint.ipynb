{
 "cells": [
  {
   "cell_type": "code",
   "execution_count": 1,
   "id": "0d20c33b",
   "metadata": {
    "scrolled": true
   },
   "outputs": [],
   "source": [
    "# run the entire notebook to play a buggy wordle that's missing some key components still...\n",
    "# bugs on bottom"
   ]
  },
  {
   "cell_type": "code",
   "execution_count": 2,
   "id": "46c23dc5",
   "metadata": {},
   "outputs": [],
   "source": [
    "import random"
   ]
  },
  {
   "cell_type": "code",
   "execution_count": 3,
   "id": "bfdc3d5c",
   "metadata": {},
   "outputs": [],
   "source": [
    "masterList = []\n",
    "wordList = []\n",
    "completed = []\n",
    "failed = []\n",
    "sessionWords = []\n",
    "answer = [' _ ',' _ ',' _ ',' _ ',' _ ']\n",
    "blank = [' _ ',' _ ',' _ ',' _ ',' _ ']\n",
    "board = [blank,blank,blank,blank,blank]\n",
    "guessCount = 0\n",
    "gameOver = False\n",
    "word = None\n",
    "filename = 'words.txt'"
   ]
  },
  {
   "cell_type": "code",
   "execution_count": 4,
   "id": "1581ba28",
   "metadata": {},
   "outputs": [],
   "source": [
    "def loadWords():\n",
    "    \n",
    "    global masterList\n",
    "    global wordList\n",
    "\n",
    "    with open(filename, 'r') as f:\n",
    "        data = f.read()\n",
    "        data = data.split()\n",
    "        \n",
    "        for count,i in enumerate(data):\n",
    "            if (i=='5') or (i=='Letter') or (i=='Words') or (i==data[3]) or len(i)==1:\n",
    "                continue\n",
    "            else:\n",
    "                masterList.append(i)\n",
    "                wordList.append(i)"
   ]
  },
  {
   "cell_type": "code",
   "execution_count": 5,
   "id": "1566873f",
   "metadata": {},
   "outputs": [],
   "source": [
    "def displayBoard():\n",
    "    for i in board:\n",
    "        print(i)"
   ]
  },
  {
   "cell_type": "code",
   "execution_count": 6,
   "id": "b41e12ce",
   "metadata": {},
   "outputs": [],
   "source": [
    "def newWord():\n",
    "\n",
    "    global wordList\n",
    "    global sessionWords\n",
    "    global word\n",
    "    \n",
    "    random.shuffle(wordList)\n",
    "    word = wordList.pop()\n",
    "        \n",
    "    if word != None:\n",
    "        sessionWords.append(word)\n",
    "        random.shuffle(wordList)\n",
    "        word = wordList.pop()\n",
    "    else:\n",
    "        random.shuffle(wordList)\n",
    "        word = wordList.pop()"
   ]
  },
  {
   "cell_type": "code",
   "execution_count": 7,
   "id": "fd68502b",
   "metadata": {},
   "outputs": [],
   "source": [
    "def makeGuess():\n",
    "    \n",
    "    global masterList\n",
    "    global wordList\n",
    "    global completed\n",
    "    global failed\n",
    "    global sessionWords\n",
    "    global answer\n",
    "    global blank\n",
    "    global board\n",
    "    global guessCount\n",
    "    global gameOver\n",
    "    global word\n",
    "    \n",
    "    while guessCount <= 4:\n",
    "        displayBoard()\n",
    "        guess = input('Take a wild guess...\\n')\n",
    "        if guess in masterList:\n",
    "            if guess == word:\n",
    "                for count,i in enumerate(word):\n",
    "                    answer[count] = i\n",
    "                completed.append(word)\n",
    "                gameOver = True\n",
    "            else:\n",
    "                for count,i in enumerate(word):\n",
    "                    if guess[count] == i:\n",
    "                        answer[count] = i\n",
    "                    elif guess[count] in word:\n",
    "                        answer[count] = f'?{guess[count]}?'\n",
    "                    else:\n",
    "                        pass\n",
    "            board[guessCount] = answer\n",
    "            guessCount += 1\n",
    "        else:\n",
    "            print('Too wild!')\n",
    "            print(f'{guess} isn\\'t in the list of approved words...')\n",
    "            print('Soo...Try again!')\n",
    "            makeGuess()\n",
    "    else:\n",
    "        displayBoard()\n",
    "        guess = input('Last try...\\n')\n",
    "        if guess in masterList:\n",
    "            if guess == word:\n",
    "                for count,i in enumerate(word):\n",
    "                    answer[count] = i\n",
    "                completed.append(word)\n",
    "                gameOver = True\n",
    "            else:\n",
    "                for count,i in enumerate(word):\n",
    "                    if guess[count] == i:\n",
    "                        answer[count] = i\n",
    "                    elif guess[count] in word:\n",
    "                        answer[count] = f'?{guess[count]}?'\n",
    "                    else:\n",
    "                        answer[count] = f'X{guess[count]}X'\n",
    "            board[guessCount] = answer\n",
    "            guessCount += 1\n",
    "            gameOver = True\n"
   ]
  },
  {
   "cell_type": "code",
   "execution_count": 8,
   "id": "e802d1c0",
   "metadata": {},
   "outputs": [],
   "source": [
    "def main():\n",
    "    loadWords()\n",
    "    newWord()\n",
    "    makeGuess()"
   ]
  },
  {
   "cell_type": "code",
   "execution_count": null,
   "id": "1eeaa2b7",
   "metadata": {
    "scrolled": false
   },
   "outputs": [
    {
     "name": "stdout",
     "output_type": "stream",
     "text": [
      "[' _ ', ' _ ', ' _ ', ' _ ', ' _ ']\n",
      "[' _ ', ' _ ', ' _ ', ' _ ', ' _ ']\n",
      "[' _ ', ' _ ', ' _ ', ' _ ', ' _ ']\n",
      "[' _ ', ' _ ', ' _ ', ' _ ', ' _ ']\n",
      "[' _ ', ' _ ', ' _ ', ' _ ', ' _ ']\n",
      "Take a wild guess...\n",
      "hello\n",
      "[' _ ', ' _ ', ' _ ', ' _ ', '?o?']\n",
      "[' _ ', ' _ ', ' _ ', ' _ ', ' _ ']\n",
      "[' _ ', ' _ ', ' _ ', ' _ ', ' _ ']\n",
      "[' _ ', ' _ ', ' _ ', ' _ ', ' _ ']\n",
      "[' _ ', ' _ ', ' _ ', ' _ ', ' _ ']\n",
      "Take a wild guess...\n",
      "oreos\n",
      "Too wild!\n",
      "oreos isn't in the list of approved words...\n",
      "Soo...Try again!\n",
      "[' _ ', ' _ ', ' _ ', ' _ ', '?o?']\n",
      "[' _ ', ' _ ', ' _ ', ' _ ', ' _ ']\n",
      "[' _ ', ' _ ', ' _ ', ' _ ', ' _ ']\n",
      "[' _ ', ' _ ', ' _ ', ' _ ', ' _ ']\n",
      "[' _ ', ' _ ', ' _ ', ' _ ', ' _ ']\n",
      "Take a wild guess...\n",
      "pools\n",
      "[' _ ', '?o?', '?o?', ' _ ', '?o?']\n",
      "[' _ ', '?o?', '?o?', ' _ ', '?o?']\n",
      "[' _ ', ' _ ', ' _ ', ' _ ', ' _ ']\n",
      "[' _ ', ' _ ', ' _ ', ' _ ', ' _ ']\n",
      "[' _ ', ' _ ', ' _ ', ' _ ', ' _ ']\n"
     ]
    }
   ],
   "source": [
    "if __name__ == '__main__':\n",
    "    main()"
   ]
  },
  {
   "cell_type": "code",
   "execution_count": null,
   "id": "9009ad70",
   "metadata": {},
   "outputs": [],
   "source": [
    "'''\n",
    "01\n",
    "\n",
    "trees\n",
    "[' _ ', ' _ ', '?e?', 'e', ' _ ']\n",
    "[' _ ', ' _ ', ' _ ', ' _ ', ' _ ']\n",
    "[' _ ', ' _ ', ' _ ', ' _ ', ' _ ']\n",
    "[' _ ', ' _ ', ' _ ', ' _ ', ' _ ']\n",
    "[' _ ', ' _ ', ' _ ', ' _ ', ' _ ']\n",
    "melee\n",
    "[' _ ', '?e?', '?e?', 'e', '?e?']\n",
    "[' _ ', '?e?', '?e?', 'e', '?e?']\n",
    "[' _ ', ' _ ', ' _ ', ' _ ', ' _ ']\n",
    "[' _ ', ' _ ', ' _ ', ' _ ', ' _ ']\n",
    "[' _ ', ' _ ', ' _ ', ' _ ', ' _ ']\n",
    "\n",
    "need to limit amount of correct letters in wrong spaces so they dont populate everywhere\n",
    "'''"
   ]
  }
 ],
 "metadata": {
  "kernelspec": {
   "display_name": "Python 3 (ipykernel)",
   "language": "python",
   "name": "python3"
  },
  "language_info": {
   "codemirror_mode": {
    "name": "ipython",
    "version": 3
   },
   "file_extension": ".py",
   "mimetype": "text/x-python",
   "name": "python",
   "nbconvert_exporter": "python",
   "pygments_lexer": "ipython3",
   "version": "3.9.7"
  }
 },
 "nbformat": 4,
 "nbformat_minor": 5
}
